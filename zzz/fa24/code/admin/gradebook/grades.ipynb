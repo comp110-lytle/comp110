{
 "cells": [
  {
   "cell_type": "markdown",
   "metadata": {},
   "source": [
    "# End of Semester Grade Calculator"
   ]
  },
  {
   "cell_type": "code",
   "execution_count": null,
   "metadata": {},
   "outputs": [],
   "source": [
    "%reload_ext autoreload\n",
    "%autoreload 2\n",
    "import pandas as pd\n",
    "from helpers import read_gradebook_csvs, assignment_titles, component_titles, to_percentages, component_grade, component_grades"
   ]
  },
  {
   "cell_type": "markdown",
   "metadata": {},
   "source": [
    "Multiple gradescope gradebooks will be merged into a single DataFrame.\n",
    "\n",
    "Add the files to the list below in reverse chronological order of the final exam open time. Doing so will ensure that if a student opened / viewed an earlier final and a later final (e.g. makeup or INTL) the earlier will count. This also allows for the merging of alternate Gradescopes (e.g. for late submissions). The first non-zero score for a given entry takes highest precedence if there are multiple entries for the same student across many CSVs."
   ]
  },
  {
   "cell_type": "code",
   "execution_count": null,
   "metadata": {
    "tags": []
   },
   "outputs": [],
   "source": [
    "gradebook_csv_files = [\n",
    "    \"./COMP110_Spring_2022_grades.csv\",\n",
    "]\n",
    "\n",
    "grades = read_gradebook_csvs(gradebook_csv_files)\n",
    "print(f\"{grades.shape[0]} records read\")\n",
    "grades.head(5)"
   ]
  },
  {
   "cell_type": "markdown",
   "metadata": {},
   "source": [
    "## Merge in PIDs, ONYENs, and Sections\n",
    "\n",
    "Follow through the script in `../roster.ipynb` to get a `roster_merged.csv` file that can serve as a mapping between Connect Carolina, Sakai, and Gradesope."
   ]
  },
  {
   "cell_type": "code",
   "execution_count": null,
   "metadata": {},
   "outputs": [],
   "source": [
    "roster = pd.read_csv(\"./roster_merged.csv\")\n",
    "roster = roster.set_index(\"GS Email\")\n",
    "roster.head(5)"
   ]
  },
  {
   "cell_type": "markdown",
   "metadata": {},
   "source": [
    "Where there are students in the official roster, but not in the gradebook, add their correct e-mail mapping to email_mappings."
   ]
  },
  {
   "cell_type": "code",
   "execution_count": null,
   "metadata": {},
   "outputs": [],
   "source": [
    "# Loop through all e-mails in CC roster\n",
    "# Find their entry in grades\n",
    "# Associate their grade DF row with their PID and section\n",
    "for email in roster.index:\n",
    "    try:\n",
    "        student = grades.loc[email]\n",
    "    except KeyError:\n",
    "        print(f\"Could not find {email} in grades - add to mappings\")\n",
    "        continue\n",
    "    grades.loc[email, [\"Name\"]] = roster.loc[email][\"Name\"]\n",
    "    grades.loc[email, [\"PID\"]] = roster.loc[email][\"PID\"]\n",
    "    grades.loc[email, [\"ONYEN\"]] = roster.loc[email][\"ONYEN\"]\n",
    "    grades.loc[email, [\"First\"]] = roster.loc[email][\"First\"]\n",
    "    grades.loc[email, [\"Last\"]] = roster.loc[email][\"Last\"]\n",
    "    grades.loc[email, [\"Section\"]] = roster.loc[email][\"Section\"]\n",
    "\n",
    "# Drop people no longer in an official ConnectCarolina section\n",
    "grades = grades[~grades[\"Section\"].isnull()].copy()\n",
    "\n",
    "# Convert PIDs to ints\n",
    "grades[\"PID\"] = grades[\"PID\"].astype(int)\n",
    "\n",
    "grades.to_csv(\"gradescope-with-onyens.csv\")\n",
    "\n",
    "grades"
   ]
  },
  {
   "cell_type": "markdown",
   "metadata": {},
   "source": [
    "## Set readings Max Points to 100\n",
    "\n",
    "Readings 00 and 02 were graded strangely on GS, where the max points is listed as 0.0, so we need to do a bit of preprossing."
   ]
  },
  {
   "cell_type": "code",
   "execution_count": null,
   "metadata": {},
   "outputs": [],
   "source": [
    "grades[\"RD00 - The Ethical Algorithm - Max Points\"] = 100.0\n",
    "grades[\"RD01 - WOMD - Max Points\"] = 100.0\n",
    "grades[\"RD02 - Gender Shades - Max Points\"] = 100.0"
   ]
  },
  {
   "cell_type": "markdown",
   "metadata": {},
   "source": [
    "## Get Percentages for All Assignments"
   ]
  },
  {
   "cell_type": "code",
   "execution_count": null,
   "metadata": {},
   "outputs": [],
   "source": [
    "grades_pct = to_percentages(grades)\n",
    "grades_pct.to_csv(\"grades.csv\")\n",
    "grades_pct"
   ]
  },
  {
   "cell_type": "markdown",
   "metadata": {},
   "source": [
    "## Handle Final Grade Replacement Logic\n",
    "\n",
    "We had 5 quizzes.  If the final is lower than a quiz score, it will replace a single quiz score."
   ]
  },
  {
   "cell_type": "code",
   "execution_count": null,
   "metadata": {},
   "outputs": [],
   "source": [
    "grades_copy = grades_pct.copy()\n",
    "\n",
    "quizzes = component_titles(grades_copy.columns, \"QZ\")\n",
    "quiz_sum = grades_copy[quizzes].sum(axis=1)\n",
    "quiz_low = grades_copy[quizzes].min(axis=1)\n",
    "final_score = grades_pct[[\"FN00\"]][\"FN00\"]\n",
    "\n",
    "grades_pct.loc[final_score > quiz_low, \"QU_SCORE\"] = (quiz_sum - quiz_low + final_score) / 4.0\n",
    "grades_pct.loc[final_score <= quiz_low, \"QU_SCORE\"] = quiz_sum / 4.0\n",
    "grades_pct[\"REPLACED_QUIZ\"] = final_score > quiz_low\n",
    "grades_pct.to_csv(\"replace_quiz.csv\")\n",
    "grades_pct"
   ]
  },
  {
   "cell_type": "markdown",
   "metadata": {},
   "source": [
    "## Compute the Grades for Each Component of the Course"
   ]
  },
  {
   "cell_type": "code",
   "execution_count": null,
   "metadata": {
    "tags": []
   },
   "outputs": [],
   "source": [
    "components = {\n",
    "    \"Final\": {\n",
    "        \"prefix\": \"FN\",\n",
    "        \"drops\": 0,\n",
    "        \"weight\": 10.0\n",
    "    },\n",
    "    \"Quizzes\": {\n",
    "        \"prefix\": \"QZ\",\n",
    "        \"drops\": 0,\n",
    "        \"weight\": 40.0\n",
    "    },\n",
    "    \"Readings\": {\n",
    "        \"prefix\": \"RD\",\n",
    "        \"drops\": 0,\n",
    "        \"weight\": 10.0\n",
    "    },\n",
    "    \"Lessons\": {\n",
    "        \"prefix\": \"LS\",\n",
    "        \"drops\": 3,\n",
    "        \"weight\": 10.0\n",
    "    },\n",
    "    \"Exercises\": {\n",
    "        \"prefix\": \"EX\",\n",
    "        \"drops\": 1,\n",
    "        \"weight\": 30.0\n",
    "    }\n",
    "}\n",
    "\n",
    "grades_parts = component_grades(grades_pct, components)\n",
    "grades_parts = grades_parts.sort_values([\"Section\", \"Total\"], ascending=[True, True])\n",
    "grades_parts.to_csv(\"components.csv\")\n",
    "grades_parts.tail()"
   ]
  },
  {
   "cell_type": "code",
   "execution_count": null,
   "metadata": {},
   "outputs": [],
   "source": [
    "cutoffs = {\n",
    "    \"F\": -0.1,\n",
    "    \"D\": 59.0,\n",
    "    \"D+\": 66.0,\n",
    "    \"C-\": 69.0,\n",
    "    \"C\": 72.0,\n",
    "    \"C+\": 76.0,\n",
    "    \"B-\": 79.0,\n",
    "    \"B\": 82.0,\n",
    "    \"B+\": 86.0,\n",
    "    \"A-\": 89.0,\n",
    "    \"A\": 92.0 \n",
    "}\n",
    "\n",
    "for letter in cutoffs:\n",
    "    grades_parts.loc[grades_parts[\"Total\"] >= cutoffs[letter], \"Grade\"] = letter\n",
    "\n",
    "grades_parts.loc[(grades_parts[\"FN\"] == 0.0) & (grades_parts[\"Total\"] < 55.0), \"Grade\"] = \"FA\"\n",
    "grades_parts.loc[(grades_parts[\"FN\"] == 0.0) & (grades_parts[\"Total\"] >= 55.0), \"Grade\"] = \"AB\"\n",
    "grades_parts.to_csv(\"grades.csv\")\n",
    "grades_parts"
   ]
  },
  {
   "cell_type": "markdown",
   "metadata": {},
   "source": [
    "## Produce CSVs for "
   ]
  },
  {
   "cell_type": "code",
   "execution_count": null,
   "metadata": {},
   "outputs": [],
   "source": [
    "grades_parts[\"Final Exam\"] = grades_parts[\"FN\"] * 100.0\n",
    "grades_parts[\"Final Exam\"] = grades_parts[\"Final Exam\"].round(0)\n",
    "grades_parts[\"Course Grade\"] = grades_parts[\"Grade\"]\n",
    "\n",
    "for section in [1, 2]:\n",
    "    grades_sakai = grades_parts[(grades_parts[\"Section\"] == section) & (grades_parts[\"Grade\"] != \"FA\")][[\"ONYEN\", \"Final Exam\", \"Course Grade\"]]\n",
    "    grades_sakai.to_csv(f\"s{section}-sakai.csv\", header=[\"ID\", \"Final Exam Score\", \"Course Grade\"], index=False)\n",
    "    grades_cc = grades_parts[grades_parts[\"Section\"] == section][[\"PID\", \"ONYEN\", \"ONYEN\", \"Course Grade\"]]\n",
    "    grades_cc.to_csv(f\"s{section}-connect-carolina.csv\", header=False, index=False)"
   ]
  },
  {
   "cell_type": "code",
   "execution_count": null,
   "metadata": {},
   "outputs": [],
   "source": [
    "grades_parts[grades_parts[\"Total\"] >= 86.0].shape[0] / grades_parts.shape[0]"
   ]
  }
 ],
 "metadata": {
  "interpreter": {
   "hash": "aee8b7b246df8f9039afb4144a1f6fd8d2ca17a180786b69acc140d282b71a49"
  },
  "kernelspec": {
   "display_name": "Python 3.10.4 64-bit",
   "language": "python",
   "name": "python3"
  },
  "language_info": {
   "codemirror_mode": {
    "name": "ipython",
    "version": 3
   },
   "file_extension": ".py",
   "mimetype": "text/x-python",
   "name": "python",
   "nbconvert_exporter": "python",
   "pygments_lexer": "ipython3",
   "version": "3.11.1"
  },
  "metadata": {
   "interpreter": {
    "hash": "7812ea015bdcee6f23a998adcdd2ef97c151c0c241b7b7070987d9313e41299d"
   }
  }
 },
 "nbformat": 4,
 "nbformat_minor": 2
}
