{
 "cells": [
  {
   "attachments": {},
   "cell_type": "markdown",
   "metadata": {},
   "source": [
    "# Itinerary Generation\n",
    "\n",
    "The purpose of this notebook is to generate the course site's itinerary page and subpages based on `Schedule.ipynb`"
   ]
  },
  {
   "cell_type": "code",
   "execution_count": 1,
   "metadata": {},
   "outputs": [],
   "source": [
    "from datetime import date, timedelta\n",
    "from helpers import calendar_table"
   ]
  },
  {
   "cell_type": "code",
   "execution_count": 2,
   "metadata": {},
   "outputs": [],
   "source": [
    "SITE_DIR=\"../../../site\""
   ]
  },
  {
   "attachments": {},
   "cell_type": "markdown",
   "metadata": {},
   "source": []
  },
  {
   "cell_type": "code",
   "execution_count": 3,
   "metadata": {},
   "outputs": [
    {
     "name": "stdout",
     "output_type": "stream",
     "text": [
      "The autoreload extension is already loaded. To reload it, use:\n",
      "  %reload_ext autoreload\n",
      "Date,Weekday,Plan\n",
      "Week 0\n",
      "Jun-23,Mon,FDOC\n",
      ",,Day 00\n",
      "Jun-24,Tue,Day 01\n",
      "Jun-25,Wed,Drop Period Ends\n",
      ",,Day 02\n",
      "Jun-26,Thu,Day 03\n",
      "Jun-27,Fri,Day 04\n",
      "Week 1\n",
      "Jun-30,Mon,Day 05\n",
      "Jul-01,Tue,Day 06\n",
      "Jul-02,Wed,Day 07\n",
      "Jul-03,Thu,Day 08\n",
      "Jul-04,Fri,University Holiday\n",
      "Week 2\n",
      "Jul-07,Mon,Day 09\n",
      "Jul-08,Tue,Day 10\n",
      "Jul-09,Wed,Day 11\n",
      "Jul-10,Thu,Day 12\n",
      "Jul-11,Fri,Day 13\n",
      "Week 3\n",
      "Jul-14,Mon,Day 14\n",
      "Jul-15,Tue,Day 15\n",
      "Jul-16,Wed,Day 16\n",
      "Jul-17,Thu,Widthdraw Period Ends\n",
      ",,Day 17\n",
      "Jul-18,Fri,Day 18\n",
      "Week 4\n",
      "Jul-21,Mon,Day 19\n",
      "Jul-22,Tue,Day 20\n",
      "Jul-23,Wed,Day 21\n",
      "Jul-24,Thu,LDOC\n",
      ",,Day 22\n",
      "Week 5\n",
      "Jul-28,Mon,Final\n"
     ]
    }
   ],
   "source": [
    "%reload_ext autoreload\n",
    "%run Schedule.ipynb"
   ]
  },
  {
   "attachments": {},
   "cell_type": "markdown",
   "metadata": {},
   "source": [
    "We're going to curate what is in the full syllabus based on what we want to expose to students."
   ]
  },
  {
   "cell_type": "code",
   "execution_count": 4,
   "metadata": {},
   "outputs": [
    {
     "data": {
      "text/html": [
       "<table>\n",
       "<tbody>\n",
       "<tr><td>Date  </td><td>Weekday</td><td>Plan                                       </td></tr>\n",
       "<tr><td>Week 0</td><td>       </td><td>                                           </td></tr>\n",
       "<tr><td>Jun-23</td><td>Mon    </td><td>Welcome to COMP110                         </td></tr>\n",
       "<tr><td>      </td><td>       </td><td>Out: Syllabus                              </td></tr>\n",
       "<tr><td>      </td><td>       </td><td>Due: Syllabus                              </td></tr>\n",
       "<tr><td>Jun-24</td><td>Tue    </td><td>Objects and Data Types                     </td></tr>\n",
       "<tr><td>      </td><td>       </td><td>Out: Running A Program                     </td></tr>\n",
       "<tr><td>      </td><td>       </td><td>Out: Objects and Data Types                </td></tr>\n",
       "<tr><td>      </td><td>       </td><td>Out: Hello World                           </td></tr>\n",
       "<tr><td>      </td><td>       </td><td>Due: Running A Program                     </td></tr>\n",
       "<tr><td>      </td><td>       </td><td>Due: Objects and Data Types                </td></tr>\n",
       "<tr><td>Jun-25</td><td>Wed    </td><td>Expressions, Functions, and Memory Diagrams</td></tr>\n",
       "<tr><td>      </td><td>       </td><td>Out: Expressions                           </td></tr>\n",
       "<tr><td>      </td><td>       </td><td>Out: Functions                             </td></tr>\n",
       "<tr><td>      </td><td>       </td><td>Out: Memory Diagrams Practice              </td></tr>\n",
       "<tr><td>      </td><td>       </td><td>Due: Expressions                           </td></tr>\n",
       "<tr><td>      </td><td>       </td><td>Due: Functions                             </td></tr>\n",
       "<tr><td>      </td><td>       </td><td>Due: Memory Diagrams Practice              </td></tr>\n",
       "<tr><td>Jun-26</td><td>Thu    </td><td>Out: Writing Functions                     </td></tr>\n",
       "<tr><td>      </td><td>       </td><td>Due: Writing Functions                     </td></tr>\n",
       "<tr><td>Jun-27</td><td>Fri    </td><td>Out: Quiz 0                                </td></tr>\n",
       "<tr><td>      </td><td>       </td><td>Due: Hello World                           </td></tr>\n",
       "<tr><td>      </td><td>       </td><td>Due: Quiz 0                                </td></tr>\n",
       "<tr><td>Week 1</td><td>       </td><td>                                           </td></tr>\n",
       "<tr><td>Jun-30</td><td>Mon    </td><td>Boolean Expressions and Conditionals       </td></tr>\n",
       "<tr><td>      </td><td>       </td><td>Out: Boolean Expressions                   </td></tr>\n",
       "<tr><td>      </td><td>       </td><td>Out: Conditionals                          </td></tr>\n",
       "<tr><td>      </td><td>       </td><td>Due: Boolean Expressions                   </td></tr>\n",
       "<tr><td>      </td><td>       </td><td>Due: Conditionals                          </td></tr>\n",
       "<tr><td>Jul-01</td><td>Tue    </td><td>Recursion                                  </td></tr>\n",
       "<tr><td>      </td><td>       </td><td>Out: Recursion                             </td></tr>\n",
       "<tr><td>      </td><td>       </td><td>Out: Tea Party                             </td></tr>\n",
       "<tr><td>      </td><td>       </td><td>Due: Recursion                             </td></tr>\n",
       "<tr><td>Jul-02</td><td>Wed    </td><td>Out: Recursion Practice                    </td></tr>\n",
       "<tr><td>      </td><td>       </td><td>Due: Recursion Practice                    </td></tr>\n",
       "<tr><td>Jul-03</td><td>Thu    </td><td>Out: Quiz 1                                </td></tr>\n",
       "<tr><td>      </td><td>       </td><td>Due: Tea Party                             </td></tr>\n",
       "<tr><td>      </td><td>       </td><td>Due: Quiz 1                                </td></tr>\n",
       "<tr><td>Week 2</td><td>       </td><td>                                           </td></tr>\n",
       "<tr><td>Jul-07</td><td>Mon    </td><td>User Input, Local Variables, and elif      </td></tr>\n",
       "<tr><td>      </td><td>       </td><td>Out: Variables and elif Statments          </td></tr>\n",
       "<tr><td>      </td><td>       </td><td>Out: Wordle                                </td></tr>\n",
       "<tr><td>      </td><td>       </td><td>Due: Variables and elif Statments          </td></tr>\n",
       "<tr><td>Jul-08</td><td>Tue    </td><td>While Loops + Diagrams Practice            </td></tr>\n",
       "<tr><td>      </td><td>       </td><td>Out: While Loops                           </td></tr>\n",
       "<tr><td>      </td><td>       </td><td>Out: While Loops Practice                  </td></tr>\n",
       "<tr><td>      </td><td>       </td><td>Due: While Loops                           </td></tr>\n",
       "<tr><td>      </td><td>       </td><td>Due: While Loops Practice                  </td></tr>\n",
       "<tr><td>Jul-09</td><td>Wed    </td><td>Lists                                      </td></tr>\n",
       "<tr><td>      </td><td>       </td><td>Out: Lists                                 </td></tr>\n",
       "<tr><td>      </td><td>       </td><td>Due: Lists                                 </td></tr>\n",
       "<tr><td>Jul-10</td><td>Thu    </td><td>Out: Lists                                 </td></tr>\n",
       "<tr><td>      </td><td>       </td><td>Due: Wordle                                </td></tr>\n",
       "<tr><td>      </td><td>       </td><td>Due: Lists                                 </td></tr>\n",
       "<tr><td>Jul-11</td><td>Fri    </td><td>Out: Quiz 2                                </td></tr>\n",
       "<tr><td>      </td><td>       </td><td>Out: List Utility Functions                </td></tr>\n",
       "<tr><td>      </td><td>       </td><td>Due: Quiz 2                                </td></tr>\n",
       "<tr><td>Week 3</td><td>       </td><td>                                           </td></tr>\n",
       "<tr><td>Jul-14</td><td>Mon    </td><td>Dictionaries                               </td></tr>\n",
       "<tr><td>      </td><td>       </td><td>Out: Dictionaries                          </td></tr>\n",
       "<tr><td>      </td><td>       </td><td>Due: Dictionaries                          </td></tr>\n",
       "<tr><td>Jul-15</td><td>Tue    </td><td>Out: for Loops                             </td></tr>\n",
       "<tr><td>      </td><td>       </td><td>Due: for Loops                             </td></tr>\n",
       "<tr><td>Jul-16</td><td>Wed    </td><td>Due: List Utility Functions                </td></tr>\n",
       "<tr><td>Jul-18</td><td>Fri    </td><td>Out: Quiz 3                                </td></tr>\n",
       "<tr><td>      </td><td>       </td><td>Due: Quiz 3                                </td></tr>\n",
       "<tr><td>Week 4</td><td>       </td><td>                                           </td></tr>\n",
       "<tr><td>Week 5</td><td>       </td><td>                                           </td></tr>\n",
       "<tr><td>Jul-28</td><td>Mon    </td><td>Final                                      </td></tr>\n",
       "</tbody>\n",
       "</table>"
      ],
      "text/plain": [
       "<IPython.core.display.HTML object>"
      ]
     },
     "execution_count": 4,
     "metadata": {},
     "output_type": "execute_result"
    }
   ],
   "source": [
    "today = date.today() - timedelta(2)  # Hack to keep the past three days in range for now, need to rewrite for deadlines\n",
    "\n",
    "def keep(plan):\n",
    "    # Don't show \"Class\" or \"Milestone\"\n",
    "    if plan.kind == Kind.MS or plan.kind == Kind.DK or plan.kind == Kind.NA:\n",
    "        return False\n",
    "    elif plan.kind == Kind.WD and plan.date - today > timedelta(6):\n",
    "        # Filter holidays out in the far future, but keep nearby ones in for\n",
    "        # positive vibes and unrelenting optimism.\n",
    "        return False\n",
    "    elif (plan.kind == Kind.CL or plan.kind == Kind.RV) and len(plan.links) == 0:\n",
    "        return False\n",
    "    elif plan.kind != Kind.QZ and plan.kind != Kind.EX and plan.kind != Kind.RD and plan.kind != Kind.FN and plan.date - today > timedelta(6):\n",
    "        return False\n",
    "    else:\n",
    "        return True\n",
    "\n",
    "for day in syllabus:\n",
    "    remove = []\n",
    "    syllabus[day] = [plan for plan in syllabus[day] if keep(plan)]\n",
    "\n",
    "show_calendar(syllabus)"
   ]
  },
  {
   "cell_type": "code",
   "execution_count": 5,
   "metadata": {},
   "outputs": [],
   "source": [
    "# Segment out future vs past\n",
    "future = {}\n",
    "past = {}\n",
    "for day in syllabus:\n",
    "    if day < today:\n",
    "        past[day] = syllabus[day]\n",
    "    else:\n",
    "        future[day] = syllabus[day]"
   ]
  },
  {
   "attachments": {},
   "cell_type": "markdown",
   "metadata": {},
   "source": [
    "Similar to itinerary generation, we will auto-generate the 'On the Horizon' box. First, let's curate what is in the box:"
   ]
  },
  {
   "cell_type": "code",
   "execution_count": 6,
   "metadata": {},
   "outputs": [],
   "source": [
    "from helpers import horizonize\n",
    "\n",
    "horizon_syl = horizonize(syllabus_copy)\n",
    "horizon_syl = [plan for plan in horizon_syl if plan.kind in {Kind.EX, Kind.QZ, Kind.RD, Kind.HW, Kind.FN, Kind.LS, Kind.PJ, Kind.CQ, Kind.VL}]"
   ]
  },
  {
   "attachments": {},
   "cell_type": "markdown",
   "metadata": {},
   "source": [
    "Stripping data to only near future quizzes and due dates"
   ]
  },
  {
   "cell_type": "code",
   "execution_count": 7,
   "metadata": {},
   "outputs": [
    {
     "name": "stdout",
     "output_type": "stream",
     "text": [
      "[<helpers.HorizonPlan object at 0x1187d4890>, <helpers.HorizonPlan object at 0x1187d5c90>, <helpers.HorizonPlan object at 0x1187d49d0>, <helpers.HorizonPlan object at 0x1187d5990>]\n"
     ]
    }
   ],
   "source": [
    "horizoninfo = []\n",
    "today = date.today()\n",
    "\n",
    "for plan in horizon_syl:\n",
    "    if plan.date > (today - timedelta(1)) and plan.date < (today + timedelta(8)):\n",
    "        horizoninfo.append(plan)\n",
    "\n",
    "print(horizoninfo)"
   ]
  },
  {
   "cell_type": "code",
   "execution_count": null,
   "metadata": {},
   "outputs": [],
   "source": []
  },
  {
   "attachments": {},
   "cell_type": "markdown",
   "metadata": {},
   "source": [
    "Working to add deadline in titles of assignments where assignment date != due date"
   ]
  },
  {
   "cell_type": "code",
   "execution_count": 8,
   "metadata": {},
   "outputs": [],
   "source": [
    "import calendar\n",
    "syllabus: dict[date, list[Plan]]\n",
    "for day in syllabus:\n",
    "    for plan in syllabus[day]: \n",
    "        if plan.deadline != plan.extension:\n",
    "            newdate = plan.extension.strftime(\"%-m/%-d\")\n",
    "            date = plan.deadline.strftime(\"%-m/%-d\")\n",
    "            plan.title += f\"<s><i>(Due {calendar.day_name[plan.deadline.weekday()]} {date})</i></s>\" \n",
    "            plan.title += f\" (Extended to {calendar.day_name[plan.extension.weekday()]} {newdate})\" \n",
    "        elif (plan.deadline != None) and (plan.kind != Kind.QZ): \n",
    "            date = plan.deadline.strftime(\"%-m/%-d\")\n",
    "            plan.title += f\" (Due {calendar.day_name[plan.deadline.weekday()]} {date})\" "
   ]
  },
  {
   "attachments": {},
   "cell_type": "markdown",
   "metadata": {},
   "source": [
    "And now (finally), we generate the itinerary and horizon box."
   ]
  },
  {
   "cell_type": "code",
   "execution_count": 9,
   "metadata": {},
   "outputs": [],
   "source": [
    "from jinja2 import Environment, FileSystemLoader, select_autoescape\n",
    "from helpers import serialize, serialize_plan\n",
    "import re\n",
    "import json \n",
    "from datetime import date\n",
    "env = Environment(\n",
    "    loader=FileSystemLoader(SITE_DIR),\n",
    "    autoescape=select_autoescape([\"html\", \"xml\"]),\n",
    "    trim_blocks=True,\n",
    "    lstrip_blocks=True\n",
    ")\n",
    "template = env.get_template(\"./index.jinja2\")\n",
    "with open(f\"{SITE_DIR}/index.md\", \"w\", encoding=\"utf8\") as target:\n",
    "    result = template.render(syllabus=syllabus, horizon_syl=horizon_syl, future=future, horizoninfo=horizoninfo, past=past, cache=date.today())\n",
    "    # We strip the double spaces because pandoc can't handle HTML well :(\n",
    "    stripped = re.sub(r' {2,}', '', result)\n",
    "    target.write(stripped)\n",
    "serializable_syllabus = serialize(syllabus) \n",
    "future_syllabus = serialize(future)  \n",
    "past_syllabus = serialize(past)   \n",
    "json_syllabus = json.dumps(serializable_syllabus, indent = 4)   \n",
    "json_future = json.dumps(future_syllabus, indent = 4)\n",
    "json_past = json.dumps(past_syllabus, indent = 4)\n",
    "f = open(f\"{SITE_DIR}/static/components/Itinerary/data.json\", \"w\")\n",
    "f.write(json_syllabus)\n",
    "f.close()\n",
    "f = open(f\"{SITE_DIR}/static/components/Itinerary/future.json\", \"w\")\n",
    "f.write(json_future)\n",
    "f.close()\n",
    "f = open(f\"{SITE_DIR}/static/components/Itinerary/past.json\", \"w\")\n",
    "f.write(json_past)\n",
    "f.close()"
   ]
  },
  {
   "cell_type": "code",
   "execution_count": 10,
   "metadata": {},
   "outputs": [],
   "source": [
    "# for slide in LS_links:\n",
    "    # print(slide)"
   ]
  }
 ],
 "metadata": {
  "kernelspec": {
   "display_name": "Python 3",
   "language": "python",
   "name": "python3"
  },
  "language_info": {
   "codemirror_mode": {
    "name": "ipython",
    "version": 3
   },
   "file_extension": ".py",
   "mimetype": "text/x-python",
   "name": "python",
   "nbconvert_exporter": "python",
   "pygments_lexer": "ipython3",
   "version": "3.11.1"
  },
  "orig_nbformat": 3
 },
 "nbformat": 4,
 "nbformat_minor": 2
}
