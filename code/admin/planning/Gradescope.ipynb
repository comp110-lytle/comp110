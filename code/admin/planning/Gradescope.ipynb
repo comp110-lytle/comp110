{
 "cells": [
  {
   "attachments": {},
   "cell_type": "markdown",
   "metadata": {},
   "source": [
    "# Update Dates and Deadlines in Gradescope\n",
    "\n",
    "First, we need to load the user's gradescope email and password. We are reading these from the environment and support a `.env` file in the local directory with these variables.\n",
    "\n",
    "To use this notebook, you need to set the env vars `GRADESCOPE_EMAIL` and `GRADESCOPE_PASSWORD` to their respective values."
   ]
  },
  {
   "attachments": {},
   "cell_type": "markdown",
   "metadata": {},
   "source": []
  },
  {
   "cell_type": "code",
   "execution_count": null,
   "metadata": {},
   "outputs": [],
   "source": [
    "import os\n",
    "import dotenv\n",
    "dotenv.load_dotenv()\n",
    "\n",
    "assert \"GRADESCOPE_EMAIL\" in os.environ, \"Be sure the environment variable GRADESCOPE_EMAIL is set to your e-mail address.\"\n",
    "GRADESCOPE_EMAIL = os.environ[\"GRADESCOPE_EMAIL\"]\n",
    "assert \"GRADESCOPE_PASSWORD\" in os.environ, \"Be sure the environment variable GRADESCOPE_EMAIL is set to your password.\"\n",
    "GRADESCOPE_PASSWORD = os.environ[\"GRADESCOPE_PASSWORD\"]\n",
    "assert \"GRADESCOPE_COURSE\" in os.environ, \"Be sure the environment variable GRADESCOPE_COURSE is set to the course ID number from URL.\"\n",
    "GRADESCOPE_COURSE = os.environ[\"GRADESCOPE_COURSE\"]"
   ]
  },
  {
   "attachments": {},
   "cell_type": "markdown",
   "metadata": {},
   "source": [
    " Automatically reload our helper module."
   ]
  },
  {
   "cell_type": "code",
   "execution_count": null,
   "metadata": {},
   "outputs": [],
   "source": [
    "# The following snippet will automatically reload imported code in helpers.\n",
    "%load_ext autoreload\n",
    "%autoreload 2"
   ]
  },
  {
   "attachments": {},
   "cell_type": "markdown",
   "metadata": {},
   "source": [
    "Next, we are importing the necessary modules and establishing a chrome webdriver."
   ]
  },
  {
   "cell_type": "code",
   "execution_count": null,
   "metadata": {},
   "outputs": [],
   "source": [
    "from gradescope_helpers import GradescopeDriver, GradescopeCourse, GradescopeAssignment\n",
    "gradescope = GradescopeDriver(GRADESCOPE_EMAIL, GRADESCOPE_PASSWORD)"
   ]
  },
  {
   "attachments": {},
   "cell_type": "markdown",
   "metadata": {},
   "source": [
    "Get a handle on the course we're working with."
   ]
  },
  {
   "cell_type": "code",
   "execution_count": null,
   "metadata": {},
   "outputs": [],
   "source": [
    "course = gradescope.get_course(GRADESCOPE_COURSE)\n",
    "print(course)"
   ]
  },
  {
   "attachments": {},
   "cell_type": "markdown",
   "metadata": {},
   "source": [
    "Now let's get a list of all the course's assignments."
   ]
  },
  {
   "cell_type": "code",
   "execution_count": null,
   "metadata": {},
   "outputs": [],
   "source": [
    "assignments = course.get_assignments()\n",
    "assignments"
   ]
  },
  {
   "cell_type": "code",
   "execution_count": null,
   "metadata": {},
   "outputs": [],
   "source": [
    "%run Schedule.ipynb"
   ]
  },
  {
   "cell_type": "code",
   "execution_count": null,
   "metadata": {},
   "outputs": [],
   "source": [
    "from helpers import Kind\n",
    "from datetime import timedelta\n",
    "LATE_PERIODS: dict[Kind, timedelta] = {\n",
    "    Kind.LS: timedelta(1),\n",
    "    Kind.CQ: timedelta(1),\n",
    "    Kind.EX: timedelta(2),\n",
    "    Kind.RD: timedelta(2)\n",
    "}\n",
    "\n",
    "from datetime import datetime, time\n",
    "for day in syllabus:\n",
    "    plans = syllabus[day]\n",
    "    for plan in plans:\n",
    "        if plan.kind == Kind.LS or plan.kind == Kind.CQ or plan.kind == Kind.EX or plan.kind == Kind.RD:\n",
    "            kind = str(plan.kind)[-2:]\n",
    "            lesson = f\"{kind}{plan.n:02}\"\n",
    "            if lesson not in assignments: continue\n",
    "            gs_lesson = assignments[lesson]\n",
    "            gs_lesson.load()\n",
    "            dirty = False\n",
    "\n",
    "            release_date = datetime.combine(plan.date - timedelta(days=2), time(0, 0, 0))\n",
    "            if release_date != gs_lesson.release_date:\n",
    "                gs_lesson.release_date = release_date\n",
    "                dirty = True\n",
    "            \n",
    "            due_date = datetime.combine(plan.deadline, time(23, 59, 00))\n",
    "            if due_date != gs_lesson.due_date:\n",
    "                gs_lesson.due_date = due_date\n",
    "                dirty = True\n",
    "    \n",
    "            if not gs_lesson.allow_late_submissions:\n",
    "                gs_lesson.allow_late_submissions = True\n",
    "                dirty = True\n",
    "\n",
    "            late_due_date = datetime.combine(plan.deadline + LATE_PERIODS[plan.kind], time(23, 59, 00))\n",
    "            if late_due_date != gs_lesson.late_due_date:\n",
    "                gs_lesson.late_due_date = late_due_date\n",
    "                dirty = True\n",
    "\n",
    "            if dirty:\n",
    "                print(\"Updating\", lesson)\n",
    "                gs_lesson.persist()"
   ]
  }
 ],
 "metadata": {
  "kernelspec": {
   "display_name": "Python 3.10.5 64-bit",
   "language": "python",
   "name": "python3"
  },
  "language_info": {
   "codemirror_mode": {
    "name": "ipython",
    "version": 3
   },
   "file_extension": ".py",
   "mimetype": "text/x-python",
   "name": "python",
   "nbconvert_exporter": "python",
   "pygments_lexer": "ipython3",
   "version": "3.11.1"
  },
  "orig_nbformat": 4,
  "vscode": {
   "interpreter": {
    "hash": "aee8b7b246df8f9039afb4144a1f6fd8d2ca17a180786b69acc140d282b71a49"
   }
  }
 },
 "nbformat": 4,
 "nbformat_minor": 2
}
