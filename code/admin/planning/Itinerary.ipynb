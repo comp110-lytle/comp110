{
 "cells": [
  {
   "attachments": {},
   "cell_type": "markdown",
   "metadata": {},
   "source": [
    "# Itinerary Generation\n",
    "\n",
    "The purpose of this notebook is to generate the course site's itinerary page and subpages based on `Schedule.ipynb`"
   ]
  },
  {
   "cell_type": "code",
   "execution_count": 91,
   "metadata": {},
   "outputs": [],
   "source": [
    "from datetime import date, timedelta\n",
    "from helpers import calendar_table"
   ]
  },
  {
   "cell_type": "code",
   "execution_count": 92,
   "metadata": {},
   "outputs": [],
   "source": [
    "SITE_DIR=\"../../../site\""
   ]
  },
  {
   "attachments": {},
   "cell_type": "markdown",
   "metadata": {},
   "source": []
  },
  {
   "cell_type": "code",
   "execution_count": 93,
   "metadata": {},
   "outputs": [
    {
     "name": "stdout",
     "output_type": "stream",
     "text": [
      "The autoreload extension is already loaded. To reload it, use:\n",
      "  %reload_ext autoreload\n",
      "Date,Weekday,Plan\n",
      "Week 0\n",
      "Aug-18,Mon,FDOC\n",
      "Aug-19,Tue,Day 00\n",
      "Aug-21,Thu,Day 01\n",
      "Week 1\n",
      "Aug-26,Tue,Day 02\n",
      "Aug-28,Thu,Day 03\n",
      "Week 2\n",
      "Sep-01,Mon,University Holiday\n",
      "Sep-02,Tue,Day 04\n",
      "Sep-04,Thu,Day 05\n",
      "Week 3\n",
      "Sep-09,Tue,Day 06\n",
      "Sep-11,Thu,Day 07\n",
      "Week 4\n",
      "Sep-15,Mon,University Holiday\n",
      "Sep-16,Tue,Day 08\n",
      "Sep-18,Thu,Day 09\n",
      "Week 5\n",
      "Sep-23,Tue,Day 10\n",
      "Sep-25,Thu,Day 11\n",
      "Week 6\n",
      "Sep-30,Tue,Day 12\n",
      "Oct-02,Thu,Day 13\n",
      "Week 7\n",
      "Oct-07,Tue,University Holiday\n",
      "Oct-09,Thu,Day 14\n",
      "Week 8\n",
      "Oct-14,Tue,Day 15\n",
      "Oct-16,Thu,University Holiday\n",
      "Oct-17,Fri,University Holiday\n",
      "Week 9\n",
      "Oct-21,Tue,Day 16\n",
      "Oct-23,Thu,Day 17\n",
      "Oct-25,Sat,Drop Period Ends\n",
      "Week 10\n",
      "Oct-28,Tue,Day 18\n",
      "Oct-30,Thu,Day 19\n",
      "Week 11\n",
      "Nov-04,Tue,Day 20\n",
      "Nov-06,Thu,Day 21\n",
      "Week 12\n",
      "Nov-11,Tue,Day 22\n",
      "Nov-13,Thu,Day 23\n",
      "Week 13\n",
      "Nov-17,Mon,Widthdraw Period Ends\n",
      "Nov-18,Tue,Day 24\n",
      "Nov-20,Thu,Day 25\n",
      "Week 14\n",
      "Nov-25,Tue,Day 26\n",
      "Nov-26,Wed,University Holiday\n",
      "Nov-27,Thu,University Holiday\n",
      "Nov-28,Fri,University Holiday\n",
      "Week 15\n",
      "Dec-02,Tue,Day 27\n",
      "Dec-03,Wed,LDOC\n",
      "Dec-06,Sat,Final @ 4:00PM\n"
     ]
    }
   ],
   "source": [
    "%reload_ext autoreload\n",
    "%run Schedule.ipynb"
   ]
  },
  {
   "attachments": {},
   "cell_type": "markdown",
   "metadata": {},
   "source": [
    "We're going to curate what is in the full syllabus based on what we want to expose to students."
   ]
  },
  {
   "cell_type": "code",
   "execution_count": 94,
   "metadata": {},
   "outputs": [
    {
     "data": {
      "text/html": [
       "<table>\n",
       "<tbody>\n",
       "<tr><td>Date   </td><td>Weekday</td><td>Plan              </td></tr>\n",
       "<tr><td>Week 0 </td><td>       </td><td>                  </td></tr>\n",
       "<tr><td>Aug-19 </td><td>Tue    </td><td>Welcome to COMP110</td></tr>\n",
       "<tr><td>       </td><td>       </td><td>Out: Syllabus     </td></tr>\n",
       "<tr><td>       </td><td>       </td><td>Out: Hello World  </td></tr>\n",
       "<tr><td>       </td><td>       </td><td>Due: Syllabus     </td></tr>\n",
       "<tr><td>Aug-22 </td><td>Fri    </td><td>Due: Hello World  </td></tr>\n",
       "<tr><td>Week 1 </td><td>       </td><td>                  </td></tr>\n",
       "<tr><td>Aug-28 </td><td>Thu    </td><td>Out: Quiz 0       </td></tr>\n",
       "<tr><td>       </td><td>       </td><td>Due: Quiz 0       </td></tr>\n",
       "<tr><td>Week 2 </td><td>       </td><td>                  </td></tr>\n",
       "<tr><td>Week 3 </td><td>       </td><td>                  </td></tr>\n",
       "<tr><td>Week 4 </td><td>       </td><td>                  </td></tr>\n",
       "<tr><td>Sep-18 </td><td>Thu    </td><td>Out: Quiz 1       </td></tr>\n",
       "<tr><td>       </td><td>       </td><td>Due: Quiz 1       </td></tr>\n",
       "<tr><td>Week 5 </td><td>       </td><td>                  </td></tr>\n",
       "<tr><td>Week 6 </td><td>       </td><td>                  </td></tr>\n",
       "<tr><td>Week 7 </td><td>       </td><td>                  </td></tr>\n",
       "<tr><td>Oct-09 </td><td>Thu    </td><td>Out: Quiz 2       </td></tr>\n",
       "<tr><td>       </td><td>       </td><td>Due: Quiz 2       </td></tr>\n",
       "<tr><td>Week 8 </td><td>       </td><td>                  </td></tr>\n",
       "<tr><td>Week 9 </td><td>       </td><td>                  </td></tr>\n",
       "<tr><td>Week 10</td><td>       </td><td>                  </td></tr>\n",
       "<tr><td>Oct-30 </td><td>Thu    </td><td>Out: Quiz 3       </td></tr>\n",
       "<tr><td>       </td><td>       </td><td>Due: Quiz 3       </td></tr>\n",
       "<tr><td>Week 11</td><td>       </td><td>                  </td></tr>\n",
       "<tr><td>Week 12</td><td>       </td><td>                  </td></tr>\n",
       "<tr><td>Week 13</td><td>       </td><td>                  </td></tr>\n",
       "<tr><td>Nov-20 </td><td>Thu    </td><td>Out: Quiz 4       </td></tr>\n",
       "<tr><td>       </td><td>       </td><td>Due: Quiz 4       </td></tr>\n",
       "<tr><td>Week 14</td><td>       </td><td>                  </td></tr>\n",
       "<tr><td>Week 15</td><td>       </td><td>                  </td></tr>\n",
       "<tr><td>Dec-06 </td><td>Sat    </td><td>Final @ 4:00PM    </td></tr>\n",
       "</tbody>\n",
       "</table>"
      ],
      "text/plain": [
       "<IPython.core.display.HTML object>"
      ]
     },
     "execution_count": 94,
     "metadata": {},
     "output_type": "execute_result"
    }
   ],
   "source": [
    "today = date.today() - timedelta(2)  # Hack to keep the past three days in range for now, need to rewrite for deadlines\n",
    "\n",
    "def keep(plan):\n",
    "    # Don't show \"Class\" or \"Milestone\"\n",
    "    if plan.kind == Kind.MS or plan.kind == Kind.DK or plan.kind == Kind.NA:\n",
    "        return False\n",
    "    elif plan.kind == Kind.WD and plan.date - today > timedelta(6):\n",
    "        # Filter holidays out in the far future, but keep nearby ones in for\n",
    "        # positive vibes and unrelenting optimism.\n",
    "        return False\n",
    "    elif (plan.kind == Kind.CL or plan.kind == Kind.RV) and len(plan.links) == 0:\n",
    "        return False\n",
    "    elif plan.kind != Kind.QZ and plan.kind != Kind.EX and plan.kind != Kind.RD and plan.kind != Kind.FN and plan.date - today > timedelta(6):\n",
    "        return False\n",
    "    else:\n",
    "        return True\n",
    "\n",
    "for day in syllabus:\n",
    "    remove = []\n",
    "    syllabus[day] = [plan for plan in syllabus[day] if keep(plan)]\n",
    "\n",
    "show_calendar(syllabus)"
   ]
  },
  {
   "cell_type": "code",
   "execution_count": 95,
   "metadata": {},
   "outputs": [],
   "source": [
    "# Segment out future vs past\n",
    "future = {}\n",
    "past = {}\n",
    "for day in syllabus:\n",
    "    if day < today:\n",
    "        past[day] = syllabus[day]\n",
    "    else:\n",
    "        future[day] = syllabus[day]"
   ]
  },
  {
   "attachments": {},
   "cell_type": "markdown",
   "metadata": {},
   "source": [
    "Similar to itinerary generation, we will auto-generate the 'On the Horizon' box. First, let's curate what is in the box:"
   ]
  },
  {
   "cell_type": "code",
   "execution_count": 96,
   "metadata": {},
   "outputs": [],
   "source": [
    "from helpers import horizonize\n",
    "\n",
    "horizon_syl = horizonize(syllabus_copy)\n",
    "horizon_syl = [plan for plan in horizon_syl if plan.kind in {Kind.EX, Kind.QZ, Kind.RD, Kind.HW, Kind.FN, Kind.LS, Kind.PJ, Kind.CQ, Kind.VL}]"
   ]
  },
  {
   "attachments": {},
   "cell_type": "markdown",
   "metadata": {},
   "source": [
    "Stripping data to only near future quizzes and due dates"
   ]
  },
  {
   "cell_type": "code",
   "execution_count": 97,
   "metadata": {},
   "outputs": [
    {
     "name": "stdout",
     "output_type": "stream",
     "text": [
      "[<helpers.HorizonPlan object at 0x10910ed90>, <helpers.HorizonPlan object at 0x109160750>]\n"
     ]
    }
   ],
   "source": [
    "horizoninfo = []\n",
    "today = date.today()\n",
    "\n",
    "for plan in horizon_syl:\n",
    "    if plan.date > (today - timedelta(1)) and plan.date < (today + timedelta(8)):\n",
    "        horizoninfo.append(plan)\n",
    "\n",
    "print(horizoninfo)"
   ]
  },
  {
   "cell_type": "code",
   "execution_count": null,
   "metadata": {},
   "outputs": [],
   "source": []
  },
  {
   "attachments": {},
   "cell_type": "markdown",
   "metadata": {},
   "source": [
    "Working to add deadline in titles of assignments where assignment date != due date"
   ]
  },
  {
   "cell_type": "code",
   "execution_count": 98,
   "metadata": {},
   "outputs": [],
   "source": [
    "import calendar\n",
    "syllabus: dict[date, list[Plan]]\n",
    "for day in syllabus:\n",
    "    for plan in syllabus[day]: \n",
    "        if plan.deadline != plan.extension:\n",
    "            newdate = plan.extension.strftime(\"%-m/%-d\")\n",
    "            date = plan.deadline.strftime(\"%-m/%-d\")\n",
    "            plan.title += f\"<s><i>(Due {calendar.day_name[plan.deadline.weekday()]} {date})</i></s>\" \n",
    "            plan.title += f\" (Extended to {calendar.day_name[plan.extension.weekday()]} {newdate})\" \n",
    "        elif (plan.deadline != None) and (plan.kind != Kind.QZ): \n",
    "            date = plan.deadline.strftime(\"%-m/%-d\")\n",
    "            plan.title += f\" (Due {calendar.day_name[plan.deadline.weekday()]} {date})\" "
   ]
  },
  {
   "attachments": {},
   "cell_type": "markdown",
   "metadata": {},
   "source": [
    "And now (finally), we generate the itinerary and horizon box."
   ]
  },
  {
   "cell_type": "code",
   "execution_count": 99,
   "metadata": {},
   "outputs": [],
   "source": [
    "from jinja2 import Environment, FileSystemLoader, select_autoescape\n",
    "from helpers import serialize, serialize_plan\n",
    "import re\n",
    "import json \n",
    "from datetime import date\n",
    "env = Environment(\n",
    "    loader=FileSystemLoader(SITE_DIR),\n",
    "    autoescape=select_autoescape([\"html\", \"xml\"]),\n",
    "    trim_blocks=True,\n",
    "    lstrip_blocks=True\n",
    ")\n",
    "template = env.get_template(\"./index.jinja2\")\n",
    "with open(f\"{SITE_DIR}/index.md\", \"w\", encoding=\"utf8\") as target:\n",
    "    result = template.render(syllabus=syllabus, horizon_syl=horizon_syl, future=future, horizoninfo=horizoninfo, past=past, cache=date.today())\n",
    "    # We strip the double spaces because pandoc can't handle HTML well :(\n",
    "    stripped = re.sub(r' {2,}', '', result)\n",
    "    target.write(stripped)\n",
    "serializable_syllabus = serialize(syllabus) \n",
    "future_syllabus = serialize(future)  \n",
    "past_syllabus = serialize(past)   \n",
    "json_syllabus = json.dumps(serializable_syllabus, indent = 4)   \n",
    "json_future = json.dumps(future_syllabus, indent = 4)\n",
    "json_past = json.dumps(past_syllabus, indent = 4)\n",
    "f = open(f\"{SITE_DIR}/static/components/Itinerary/data.json\", \"w\")\n",
    "f.write(json_syllabus)\n",
    "f.close()\n",
    "f = open(f\"{SITE_DIR}/static/components/Itinerary/future.json\", \"w\")\n",
    "f.write(json_future)\n",
    "f.close()\n",
    "f = open(f\"{SITE_DIR}/static/components/Itinerary/past.json\", \"w\")\n",
    "f.write(json_past)\n",
    "f.close()"
   ]
  },
  {
   "cell_type": "code",
   "execution_count": 100,
   "metadata": {},
   "outputs": [],
   "source": [
    "# for slide in LS_links:\n",
    "    # print(slide)"
   ]
  }
 ],
 "metadata": {
  "kernelspec": {
   "display_name": "Python 3",
   "language": "python",
   "name": "python3"
  },
  "language_info": {
   "codemirror_mode": {
    "name": "ipython",
    "version": 3
   },
   "file_extension": ".py",
   "mimetype": "text/x-python",
   "name": "python",
   "nbconvert_exporter": "python",
   "pygments_lexer": "ipython3",
   "version": "3.11.1"
  },
  "orig_nbformat": 3
 },
 "nbformat": 4,
 "nbformat_minor": 2
}
